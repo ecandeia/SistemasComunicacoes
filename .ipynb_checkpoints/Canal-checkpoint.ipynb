{
 "cells": [
  {
   "cell_type": "markdown",
   "id": "e07bf59a",
   "metadata": {},
   "source": [
    "## Canal de Comunicação\n",
    " \n",
    " O canal de comunicação é o meio pelo qual o sinal será transmitido do transmissor ao receptor. Esse meio pode ser um cabo, uma fibra óptica ou mesmo o ar, e em cada um deles ocorrem efeitos físicos que afetam o sinal sendo transmitido, sendo assim, no receptor chega uma versão corrompida do sinal transmitido. Nesse capítulo vamos analisar alguns desses efeitos.\n",
    " \n",
    "## Ruído\n",
    " \n",
    " O ruído consiste em um sinal causado pelo choque dos elétrons e que é aleatório, sendo somado na entrad do receptor ao sinal transmitido $s(t)$. Assim, o sinal recebido é dado por\n",
    " $$\n",
    " r(t) = s(t) + n(t).\n",
    " $$\n",
    "O ruído $n(t)$ pode ser gerado por várias fontes, como por exemplo o choque entre os elétrons. \n",
    "\n",
    "Normalmente modela-se o ruído como uma variável aleatória com distribuição Gaussiana com média zero e variância $\\sigma^2$, ou seja $n(t) \\mathcal{N}(0, \\sigma^2)$. Ver simulação ruido.grc para visualizar o sinal ruído no  tempo e o histograma da distruição das amplitudes.\n",
    "\n",
    "O sinal recebido é uma versão distorcida do sinal enviado, e esse fato pode ser visualizado no diagrama de constelação do sinal recebido. Na simulação psk.grc é possível visualizar a modificação da constelação a medida que a variância do ruído aumenta.\n",
    "\n",
    "Um dos parâmetros para análise de desempenho dos sistemas de comunicação é a relação entre a potência do sinal transmitido e a potência do ruído, denominada de {\\bf relação sinal-ruído} (SNR, do inglês {\\em signal to noise ratio}). Normalmente expressa em dB, tem-se\n",
    "$$\n",
    "SBR_{dB} = 10\\log_{10} \\frac{P_s}{P_N}.\n",
    "$$\n",
    " \n",
    "### Desvanecimento\n",
    "\n",
    "Flutuações rápidas na amplitude ou fase do sinal são conhecidas como desvanecimento. \n",
    "\n",
    "### Desvanecimento Lento\n",
    "\n",
    "### Desvanecimento Rápido"
   ]
  }
 ],
 "metadata": {
  "kernelspec": {
   "display_name": "Python 3 (ipykernel)",
   "language": "python",
   "name": "python3"
  },
  "language_info": {
   "codemirror_mode": {
    "name": "ipython",
    "version": 3
   },
   "file_extension": ".py",
   "mimetype": "text/x-python",
   "name": "python",
   "nbconvert_exporter": "python",
   "pygments_lexer": "ipython3",
   "version": "3.9.6"
  }
 },
 "nbformat": 4,
 "nbformat_minor": 5
}
