{
 "cells": [
  {
   "cell_type": "markdown",
   "id": "f183a0de",
   "metadata": {},
   "source": [
    "# Formatação do Pulso\n",
    "\n",
    "Os dados gerados pela fonte e codificados tem valores discretos em um determinado conjunto finito $\\{x_1, ..., x_N\\}$, e precisam ser transformados em um sinal analógico para serem transmitidos. Um primeiro passo nesse sentido é associar cada valor $x_i$  um pulso de duração $T$, que poderá em seguida ser modulado.\n",
    "\n",
    "O formato do pulso usado para representar o valor de saída dos codificadores influencia diretamente a largura de banda ocupada. Por exemplo, consideremos um pulso quadrado, dado por\n",
    "$$\\Pi\\left(\\frac{t}{T}\\right) = \\left\\{\\begin{array}{cc}\n",
    "1     &  -T/2 \\leq t \\leq T/2\\\\\n",
    "0     &  c.c\n",
    "\\end{array}\\right.\n",
    "$$\n",
    "cujas amplitudes serão alterados pelos valores $x_i$. Aplicando a transformada de Fourier obtemos\n",
    "$$\n",
    "\\Pi(f) = T.sinc(fT),\n",
    "$$\n",
    "que como sabemos tem largura de banda infinita."
   ]
  },
  {
   "cell_type": "markdown",
   "id": "3b737577",
   "metadata": {},
   "source": [
    "Uma questão a ser resolvida é qual pulso pode ser utilizado para obter uma representação limitada no tempo e na frequência. Pelo princípio da incerteza sabe-se que é impossível ser limitado em ambos os domínios, logo procura-se formatos de pulsos que seja aproximadamente limitados no tempo e na frequência.\n",
    "\n",
    "A formatação do pulso tem outras implicações que não estão somente relacionadas a ocupação espectral, como veremos no resto deste capítulo. Inicialmente suponhameos que a sequência de símbolos $x_k,\\ k = 1, 2, 3, ...$ é convertida em um trem de impulsos anlógicos\n",
    "$$\n",
    "x(t) = \\sum_k x_k\\delta(t-kT)\n",
    "$$\n",
    "que passa pelo formatador de pulsos com resposta $p(t)$ produzindo\n",
    "$$\n",
    "m(t) = x(t)*p(t).\n",
    "$$\n",
    "Com isso, o espectro do sinal mensagem é dado por \n",
    "$$\n",
    "M(f) = X(f)P(f),\n",
    "$$\n",
    "que terá espectro do pulso $p(t)$. Como exemplo, se o pulso quadrado $\\Pi(t/T)$ for utilizado teremos um sinal mensagem cujo espectro será uma sinc.\n",
    "\n",
    "Nesse momento, como estamos preocupados somente com a ocupação espectral, podemos utilizar um formato para $p(t)$ que seja mais compacto no tempo. Um exemplo é dado por\n",
    "$$\n",
    "cl(t) = \\frac{A}{2}\\left(1 + \\cos\\frac{\\pi t}{\\tau}\\right)\\Pi\\left(\\frac{t}{2\\tau}\\right)\n",
    "$$\n",
    "cuja tranformada de Fourier é dada por\n",
    "$$\n",
    "CL(f) = \\frac{A\\tau.sinc(2f\\tau)}{1 - (2f\\tau)^2}\n",
    "$$\n",
    "e está representado na Figura abaixo.\n",
    "\n",
    "FIGURA\n",
    "\n",
    "Observe que o cosseno levantado é função limitada do tempo, e aproximadamente limitada da frequência, visto que a potência cai com o qauadrado da frequência."
   ]
  },
  {
   "cell_type": "code",
   "execution_count": 27,
   "id": "4426aaca",
   "metadata": {},
   "outputs": [
    {
     "data": {
      "text/plain": [
       "[<matplotlib.lines.Line2D at 0x10f9a26d0>]"
      ]
     },
     "execution_count": 27,
     "metadata": {},
     "output_type": "execute_result"
    },
    {
     "data": {
      "image/png": "[encoded data removed]",
      "text/plain": [
       "<Figure size 640x480 with 1 Axes>"
      ]
     },
     "metadata": {},
     "output_type": "display_data"
    }
   ],
   "source": [
    "import numpy as np\n",
    "from scipy.fft import fft, ifft\n",
    "import matplotlib.pyplot as plt\n",
    "\n",
    "A = 1\n",
    "tau = 0.5\n",
    "t = np.linspace(-0.5,0.5, 200)\n",
    "cl = (A/2)*(1+np.cos(np.pi*t/tau))\n",
    "plt.plot(t, cl)"
   ]
  },
  {
   "cell_type": "markdown",
   "id": "f223b3ae",
   "metadata": {},
   "source": [
    "Antes de continuarmos a análise sobre a formtação de pulsos devemos apresentar a representação de sinais em Digrama de olho. Caso ainda não tenho sido apresentado a esse conceito, visite a página EyeDiagram."
   ]
  },
  {
   "cell_type": "markdown",
   "id": "af77614a",
   "metadata": {},
   "source": [
    "## Pulsos de Nyquist\n",
    "\n",
    "Considere que o trem de impulsos analógicos $x(t)$ que após formatado gera o sinal $m(t)$, é transmitido por um canal com resposta $h_c(t)$ e recebido por um filtro com resposta $h_r(t)$. Na saída do filtro de recepçã tem-se\n",
    "$$\n",
    "y(t) = x(t)*p(t)*h_c(t)*h_r(t).\n",
    "$$\n",
    "Escrevendo uma resposta ao impulso equivalente como $ h_{equiv}(t) = p(t)*h_c(t)*h_r(t)$ temos que\n",
    "$$\n",
    "H_{equiv}(f) = P(f)H_c(f)H_R(f).\n",
    "$$\n",
    "Uma possibilidade para o sistema é escolher $H_R(f)$ de tal forma que $H_{equiv}(f)$ se comporte como um sistema sem distorção, ou seja, apenas um atraso. Entretanto, esse requisito é muito complexo de ser obtido, principalmente em canais não lineares ou variantes no tempo. \n",
    "\n",
    "Por outro lado, sabendo que na recepção o que importa para decisão sobre o símbolo transmitido são os instantes de amostragem, $kT$, e se for garantido que nesses instantes os valores dos pulsos na recepção não se sobrepõem, não importa o que acontece nos demais instantes. Isso é equivalente a dizer que se no Diagrama de olho, a houver separação entre as passagens dos sinais distintos, ou seja, o olho for mantido aberto  a decisão está garantida. \n",
    "\n",
    "A condição para que não haja sobreposição é formatos os pulsos como\n",
    "$$\n",
    "h_{NYQ}(kT + \\tau) = \\left\\{\\begin{array}{cc} c\n",
    "     & k=0 \\\\ 0 & k \\neq 0 \n",
    "\\end{array}\n",
    "\\right.\n",
    "$$\n",
    "conhecido com **pulsos de Nyquist**.\n",
    "\n",
    "O pulso com formato de $sinc$ já proposto em parágrafos anteriores é um pulso de Nyquist, entretanto como já foi afirmado sofre dos problemas de não relizaçaõ física e causalidade.\n",
    "\n",
    "Algumas propriedades desejadas para os pulsos de Nyquist são:\n",
    "1. tenha cruzamento nos zeros de forma apriopriada;\n",
    "2. em frequência tenha bandas laterias com decaiments rápido, enquanto mantenham um perfil estreito na frequência.\n",
    "\n",
    "Outro bom exemplo e que já foi apresentado é o cosseno levantado, cujo espectro de frequências também pode ser descrito  por:\n",
    "$$\n",
    "|H(f)| = \\left\\{\\begin{array}{cc} 1  & |f| \\leq (f_x - \\Delta f) \\\\ \\frac{1}{2}\\left\\{1 + \\sin\\left\\{\\frac{\\pi}{2}\\left(1-\\frac{|f|}{f_x}\\right)\\frac{f_x}{\\Delta f}\\right]\\right\\},\n",
    "     &  (f_x - \\Delta f) < |f| < (f_x + \\Delta f) \\\\ 0, & |f\\ \\geq (f_x + \\Delta f)\n",
    "\\end{array} \\right.\n",
    "$$ \n",
    "com fase linear, e cuja magnitude do espectro está representada na figura abaixo. $f_x$ é a frequência de corte (-6dB), es está relacionada com o período de símbolo $T_0$ por $f_x = R_s/2 = 1/(2T_0)$. $\\Delta f$ é o excesso de largura de banda. Define-se também o fator de *roll-off* como $\\alpha = \\frac{\\Delta f}{f_x}$.\n",
    "\n",
    "Visitar: https://github.com/FelipeNoberto/Roll-Off-Effect-to-Signal\n",
    "\n",
    "Quando $\\alpha = 1$ temos o cosseno levantado completo, \n",
    "$$\n",
    "|H(f)| = \\left\\{\\begin{array}{cc} \\cos^2\\left(\\frac{\\pi}{f}{4f_x}\\right) & |f| \\leq 2f_x \\\\ 0, & |f| > 2f_x \\end{array}\\right.\n",
    "$$\n",
    "e cuja expressão no tempo é dada por\n",
    "$$\n",
    "h(t) = 2f_x\\frac{\\sin 2\\pi f_x t}{2\\pi f_x t}\\frac{\\cos 2\\pi f_x t}{1 - (4f_x t)^2}.\n",
    "$$\n",
    "\n",
    "\n",
    "A largura de banda absoluta de um filtro com a resposta cosseno levantado é dada por\n",
    "$$\n",
    "B = \\frac{1}{2T_0}(1+\\alpha) = \\frac{R_s}{2}(1 + \\alpha) Hz\n",
    "$$\n",
    "sendo $R_s$ a taxa de símbolo (ou *baud rate*). Por exemplo, para um sinal transmitido a uma taxa de informação de 8 kbit/s usando um sinal em banda básica com 64 níveis e um pulso cosseno levantado com fator de roll-off de 40\\%, ocupa uma largura de banda de\n",
    "$$\n",
    "B = (8.10^3/\\log_2 64)/2(1 + 0.4) = 933,1 Hz.\n",
    "$$\n",
    "\n",
    "Um parâmetro importante é o que relaciona a quantidade de símbolos que se coloca um um Hertz de frequência, conhecida como eficiência espectral. Por exemplo, para um sinal binário, quando $\\alpha = 0$ temos 2 símbolos/Hz,e a medida que $\\alpha$ aumenta esse valor diminui.\n",
    "\n",
    "Existem outros formatos de pulsos mas que não serão apresentados nesse texto."
   ]
  },
  {
   "cell_type": "markdown",
   "id": "cfa3ad12",
   "metadata": {},
   "source": [
    "Vistiar https://pysdr.org/content/pulse_shaping.html"
   ]
  }
 ],
 "metadata": {
  "kernelspec": {
   "display_name": "Python 3 (ipykernel)",
   "language": "python",
   "name": "python3"
  },
  "language_info": {
   "codemirror_mode": {
    "name": "ipython",
    "version": 3
   },
   "file_extension": ".py",
   "mimetype": "text/x-python",
   "name": "python",
   "nbconvert_exporter": "python",
   "pygments_lexer": "ipython3",
   "version": "3.9.6"
  }
 },
 "nbformat": 4,
 "nbformat_minor": 5
}
