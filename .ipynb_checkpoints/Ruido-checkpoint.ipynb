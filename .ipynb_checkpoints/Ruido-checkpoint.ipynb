{
 "cells": [
  {
   "cell_type": "markdown",
   "id": "a7e57cfc",
   "metadata": {},
   "source": [
    "## Ruído Guassiano\n",
    "\n",
    "Um variável aleatória $X$ Gaussiana tem densidade de probabilidade:\n",
    "$$F_x(x) = \\frac{1}{\\sqrt{2\\pi\\sigma^2}}e^{-\\frac{(x-\\mu)^2}{2\\sigma^2}}\n",
    "$$\n",
    "sendo $\\mu$ a média e $\\sigma^2$ a variância de $X$.\n",
    "\n",
    "Dado um sistema $h(t)$ cuja entrada é um sinal $x(t)$ com Densidade Espectral de Potência \n",
    "$$\n",
    "S_{X}(f) = \\int_{-\\infty}^{\\infty}R_{XX}(\\tau)e^{-j2\\pi f\\tau}d\\tau,$$ a saída desse sistema $y(t)$ tem densidade espectral\n",
    "$$\n",
    "S_Y(f) = |H(f)|^2 S_x(f).\n",
    "$$"
   ]
  },
  {
   "cell_type": "markdown",
   "id": "adb21212",
   "metadata": {},
   "source": [
    "Seja $n(t)$ um processo estocástico estacionário no sentido amplo,  com\n",
    "$$E[n(t)] = 0$$ e $$ G(f) = \\frac{N_0}{2}.$$\n",
    "\n",
    "Esse processo é conhecido como **ruído branco**. A dimensão de $N_0$ é Watts/Hertz.\n",
    "\n",
    "A função de autocorrelação é dada por $$R_n(\\tau) = \\frac{N_0}{2}\\delta(\\tau).$$ Assimm duas amostras desse processo tomadas a cada dois instantes de tempo são vaiáveir aleatórias descorrelacionadas.\n",
    "\n",
    "Um fato a se observar é que \n",
    "$$ P_n = \\int_{-\\infty}^{\\infty}\\frac{N_0}{2}df = \\infty,$$\n",
    "logo a potência do ruído branco é infinita. Entretanto, considera-se que o ruído é branco quando sua largura de faixa é consideravelmente maior que a largura de faixa usada para transmitir o sinal.\n",
    "\n",
    "O ruído término é considerado um ruído branco, e como se adiciona ao sinal, é denominado **ruído aditivo Gaussiano Branco**."
   ]
  },
  {
   "cell_type": "markdown",
   "id": "b3c55ddb",
   "metadata": {},
   "source": [
    "**Exemplo:** Vamos considerar um filtro passa-baixas RC, cuja entrada é o ruído aditivo Gaussiano Branco, cuja função de tranasferência é dada por\n",
    "$$\n",
    "H(f) = \\frac{1}{1 + j2\\pi fRC}\n",
    "$$\n",
    "o que nos dá\n",
    "$$\n",
    "S_y(f) = |H(f)|^2S_n(f) = \\frac{N_0/2}{1 + (2\\pi fRC)^2}\n",
    "$$\n",
    "aplicando a transformada inversa chegamos a\n",
    "$$\n",
    "R(y(\\tau) = \\frac{N_0}{4RC}e^{-\\frac{|\\tau|}{RC}}\n",
    "$$"
   ]
  },
  {
   "cell_type": "markdown",
   "id": "7a129edd",
   "metadata": {},
   "source": [
    "**Exemplo:** Seja $H(f) = 1$ para $-B \\leq f \\leq B$ e $H(f) = 0$ fora dessa faixa. A DEP do processo de saída é \n",
    "$S_y(f) = \\frac{N_0}{2},\\ -B \\leq f \\leq B$, e $S(f) = \\ |f| >B.$ E a função de autocorrelação\n",
    "$$\n",
    "R_y(\\tau) = \\int_{-B}^{B}\\frac{N_0}{2}e^{j2\\pi f\\tau}df = N_0 BSinc(2\\pi B\\tau)$$\n"
   ]
  },
  {
   "cell_type": "markdown",
   "id": "53f89c39",
   "metadata": {},
   "source": [
    "**Exemplo:** Voltemos ao filtro casado considerando agora que o sinal de recebido está adionado o ruído branco, ou seja, $r(t) = s(t) + n(t)$. A razão entre a potência do sinal recebido e a potência do ruído é dada por\n",
    "$$\\gamma = \\frac{E_s}{N_0/2},$$ e que independe do formato do sinal $s(t)$. Além disso,\n",
    "$$ H(f) = \\int_{0}^{T}s(T-t)e^{-j2\\pi ft}dt = \\left[\\int_0^Ts(\\tau)e^{j2\\pi ft}d\\tau\\right]e^{-j2\\pi fT} = S^*(f)e^{-j2\\pi fT}$$ \n",
    "portanto a magnitude de $H(f)$ é idêntica à magnitura de $S(f)$ e a fase $e^{-j2\\pi fT}$ é devido ao atraso referente à amostragem no instante $T$."
   ]
  },
  {
   "cell_type": "code",
   "execution_count": null,
   "id": "923e5a32",
   "metadata": {},
   "outputs": [],
   "source": []
  },
  {
   "cell_type": "code",
   "execution_count": null,
   "id": "80cabe2f",
   "metadata": {},
   "outputs": [],
   "source": []
  }
 ],
 "metadata": {
  "kernelspec": {
   "display_name": "Python 3 (ipykernel)",
   "language": "python",
   "name": "python3"
  },
  "language_info": {
   "codemirror_mode": {
    "name": "ipython",
    "version": 3
   },
   "file_extension": ".py",
   "mimetype": "text/x-python",
   "name": "python",
   "nbconvert_exporter": "python",
   "pygments_lexer": "ipython3",
   "version": "3.9.6"
  }
 },
 "nbformat": 4,
 "nbformat_minor": 5
}
