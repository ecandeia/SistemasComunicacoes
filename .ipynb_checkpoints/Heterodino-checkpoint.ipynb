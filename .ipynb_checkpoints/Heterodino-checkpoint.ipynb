{
 "cells": [
  {
   "cell_type": "markdown",
   "id": "516dcb06",
   "metadata": {},
   "source": [
    "**Receptor AM Superheterodino**\n",
    "\n",
    "Seja um sinal FDM dado por\n",
    "$$\n",
    "s(t) = m_a(t)\\cos(\\omega_1 t) + m_b(t)\\cos(\\omega_2 t)\n",
    "$$\n",
    "no receptor, para selecionar o sinal $m_a(t)$ pode fazer\n",
    "$$s(t).\\cos(\\omega_1 t) = \\frac{m_a{t}}{2} + \\frac{m_a{t}}{2}\\cos(2\\omega_1 t) + m_b(t)\\cos[(\\omega_1 + \\omega_2)t] + m_b(t)\\cos[(\\omega_1 - \\omega_2)t]\n",
    "$$\n",
    "e em seguida passar por um filtro passa-baixas.\n",
    "\n",
    "![title](Figuras/fig428.png)\n",
    "\n",
    "Consiste de uma seção de RF em conversor de frequência, um amplificador de IF, um detector de\n",
    "envoltória e um amplificador de áudio.\n",
    "\n",
    "A seção de RF  é um filtro sintonizável e um amplificador que sintoniza na estação desejada.\n",
    "\n",
    "Como exemplo, na próxima seção o conversor de frequências converte $\\omega_c$ para uma frequência IF de 455KHz.\n",
    "Para conseguir isto, o oscilador local é exatamente 455KHz acima da portadora\n",
    "$$\n",
    "F_{01} = f_{c}+455KHz = f_{c} + f_{IF}\n",
    "$$\n",
    "\n",
    "A razão para isso é para obter uma seletividade adequada. É difícil projetar filtros adequados de\n",
    "10 KHz de largura de faixa (áudio) se $f_c$ é muito alta. Particularmente quando o filtro \n",
    "é sintonizável. Isto que dizer que o filtro de RF não pode fornecer seletividade adequada para canais\n",
    "adjacentes.\n",
    "\n",
    "Toda seletividade é realizada praticamente na seção de RF, que também amplifica o sinal pra\n",
    "o detector de envoltória. A principal função da seção de RF é a supressão da frequência\n",
    "imagem. Por exemplo, se $f_c = 1000KHz$ e $f_{10} = 1455KHz$ mas $f^{\\prime} = 1455KHz$ e\n",
    "$f_{10} = 1910KHz$ também é captada em 455KHz pois $\\mid f^{\\prime} - f{10}\\mid = 455KHz$ a\n",
    "estação imagem da estação de 1000KHz.\n",
    "\n",
    "Estações a 910KHz = 2$f{IF}$ são estações imagem e aparecem simultaneamente na saída de IF.\n",
    "\n",
    "A seção de RF fornece uma baixa seletividade para estações adjacentes mas alta seletividade para\n",
    "estações separadas por 910KHz.\n",
    "\n",
    "O receptor que estamos analisando converte a frequência da portadora para uma frequência IF usando\n",
    "um oscilador local de frequência $f_{IO}$ maior que a da portadora (conversão para cima) e por isso\n",
    "o receptor é chamado de super-heterodino.\n",
    "\n",
    "Este princípio doi introduzido pr E. H. Armstrong e foi usado em receptores AM, FM e em televisores, porém ainda continua válido mesmo nos receptores digitais que necessitam de uma etapa de RF, conhecida como *fornt-end* de RF.\n",
    "\n",
    "A razão para ser usar a conversão para cima e não para baixo é que é mais fácil projetar os osciladores.\n",
    "\n",
    "Por exemplo, a antiga faixa de frequências do AM comercial é de 550 a 1600KHz. A conversão para cima de 1005 a 2055kHz razão\n",
    "de 2,045 e para baixo de 95 a 1145Khz razão de 12,05. Canais de 10KHz de largura de faixa e as mensagens\n",
    "na faixa de 4 a 4KHz. Cada canal é separado por uma banda de guarda de 30KHz.\n"
   ]
  },
  {
   "cell_type": "code",
   "execution_count": null,
   "id": "f7ec3750",
   "metadata": {},
   "outputs": [],
   "source": []
  }
 ],
 "metadata": {
  "kernelspec": {
   "display_name": "Python 3 (ipykernel)",
   "language": "python",
   "name": "python3"
  },
  "language_info": {
   "codemirror_mode": {
    "name": "ipython",
    "version": 3
   },
   "file_extension": ".py",
   "mimetype": "text/x-python",
   "name": "python",
   "nbconvert_exporter": "python",
   "pygments_lexer": "ipython3",
   "version": "3.9.6"
  }
 },
 "nbformat": 4,
 "nbformat_minor": 5
}
