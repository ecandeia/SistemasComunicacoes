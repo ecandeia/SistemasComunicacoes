{
 "cells": [
  {
   "cell_type": "markdown",
   "id": "12c43df4",
   "metadata": {},
   "source": [
    "# Sistemas de Comunicações\n",
    "\n",
    "## Definições\n",
    "\n",
    "- **Sistema de comunicações**: conjunto de entidades interconectadas com o objetivo de tranportar dados entre pontos;\n",
    "\n",
    "- **Modulação**: Processamento de um sinal para modificar uma ou mais de suas características (amplitude, frequência ou fase) para adequar às necessidades da transmissão;\n",
    "\n",
    "- **Canal**: meio pelo qual o sinal será transmitido para atingir um mais pontos;\n",
    "\n",
    "- **Demodulação**: processamento do sinal para desfazer a alteração produzida na modulção para se obter o sinal de interesse;\n",
    "\n",
    "- **Medida de desempenho**: métrica utilizada para avaliar o desempenho do do sitema. Por exemplo, Probabilidade de Erro de Bit.\n",
    " "
   ]
  },
  {
   "cell_type": "markdown",
   "id": "9aa2940e",
   "metadata": {},
   "source": [
    "Considerando os elementos par confeccionar um sistema de comuniações, veja no Notebook DemoMatchedFilter em um material sobre Filtros Casado."
   ]
  },
  {
   "cell_type": "code",
   "execution_count": null,
   "id": "e596e05d",
   "metadata": {},
   "outputs": [],
   "source": []
  }
 ],
 "metadata": {
  "kernelspec": {
   "display_name": "Python 3 (ipykernel)",
   "language": "python",
   "name": "python3"
  },
  "language_info": {
   "codemirror_mode": {
    "name": "ipython",
    "version": 3
   },
   "file_extension": ".py",
   "mimetype": "text/x-python",
   "name": "python",
   "nbconvert_exporter": "python",
   "pygments_lexer": "ipython3",
   "version": "3.9.6"
  }
 },
 "nbformat": 4,
 "nbformat_minor": 5
}
