{
 "cells": [
  {
   "cell_type": "markdown",
   "id": "c2a00965",
   "metadata": {},
   "source": [
    "# Sistemas de Comunicações"
   ]
  },
  {
   "cell_type": "markdown",
   "id": "6db4ad5d",
   "metadata": {},
   "source": [
    "Um **Sistema de comunicações** consiste de um  conjunto de entidades interconectadas com o objetivo de tranportar dados entre pontos.\n",
    "Na Figura abaixo tem-se a representação de um sistema de comunicação.\n",
    "\n",
    "![title](Figuras/sistemacomunicacoes.png)\n",
    "\n",
    "Os elementos desse sistema são:\n",
    "- **Fonte:** onde se origina as mensagens\n",
    "- **Transdutor de Entrada:** converte as mensagens em sinais elétricos, chamado de sinal em banda básica\n",
    "- **Transmissor:** modifica o sinal em banda básica para uma transmissão eficiente\n",
    "- **Canal:** é o meio de comunicação, fio, cabo, fibra, enlace de rádio\n",
    "- **Receptor:** realiza o processo inverso ao do transmissor.\n",
    "- **Transdutor de saída:** converte os sinais elétricos para sua forma original\n",
    "- **Destino:** para quem se destina a mensagem gerada pela fonte\n",
    "- **Distorção e Ruído:** o canal se parece com um fltro, atenua o sinal e distorce sua forma. Em geral, quanto mais distante estiverem fonte e destino mais atenuado será o sinal. A distorção ocorre porque ocorrem atenuações e deslocamentos de fase distintos par cada componente do sinal. Este tipo distorção é chamada de {\\bf distorção linear} e pode ser parcialmente corrigida no receptor por um equalizador com características de ganho e fase complementares à do canal.\n",
    "- **Distorções não lineares:** através da atenuação que varia com a amplitude do sinal. Também pode ser corrigida no receptor.\n",
    "- **Ruído:** o sinal também pode ser contaminado por sinais indesejáveis chamados de ruído, que são sinais aleatórios e imprevisíveis originados por causas externas e internas ao canal.\n",
    "- **Causas externas:** canais vizinhos, ruído gerado pelo homem, relâmpagos, etc. Com um cuidado adequado alguns desses ruídos podem ser eliminados\n",
    "- **Causas internas:** movimento \"térmico\" de elétrons em um  condutor,  difusão e recombinação de portadores em semicondutores. Este ruído nunca é eliminado."
   ]
  },
  {
   "cell_type": "markdown",
   "id": "595f855c",
   "metadata": {},
   "source": [
    "## Tipos de comunicação\n",
    "\n",
    "- **Simplex:** somente em uma direção. Exemplo: TV comercial;\n",
    "- **Half-duplex:** uma direção de cada vez;\n",
    "- **Duplex:** duas direções simultaneamente.\n",
    "\n",
    "- **Multicast:** direcionada a um conjunto de receptores, ex. TV fechada;\n",
    "- **Broadcast:** direcionado a todos os receptores, exemplo TV comercial.\n",
    "\n",
    "**Exemplo:** Comunicação por Satélite. Ponto-a-Ponto simplex."
   ]
  },
  {
   "cell_type": "markdown",
   "id": "bcfaa3fe",
   "metadata": {},
   "source": [
    "![title](Figuras/SCGuiado.png)\n",
    "\n",
    "![title](Figuras/SCSemfioPontoaPonto.png)\n",
    "\n",
    "\n",
    "**Monousuário:** um Tx e um ou mais RX.\n",
    "\n",
    "**Multusuário:** Vários Tx e vários Rx.\n",
    "- Como colocar vários usuários em um mesmo meio? R. Multiplexação.\n",
    "- Multiplexaçã no tempo, frequência, código, espaço, etc."
   ]
  },
  {
   "cell_type": "markdown",
   "id": "12c43df4",
   "metadata": {},
   "source": [
    "## Definições\n",
    "\n",
    "\n",
    "\n",
    "- **Modulação**: Processamento de um sinal para modificar uma ou mais de suas características (amplitude, frequência ou fase) para adequar às necessidades da transmissão;\n",
    "\n",
    "- **Demodulação**: processamento do sinal para desfazer a alteração produzida na modulção para se obter o sinal de interesse;\n",
    "\n",
    "- **Medida de desempenho**: métrica utilizada para avaliar o desempenho do do sitema. Por exemplo, Probabilidade de Erro de Bit.\n",
    " \n",
    " \n",
    " Considere o diagrama de blocos genérico de um sistema de comunicações como mostrado abaixo."
   ]
  },
  {
   "cell_type": "markdown",
   "id": "9aa2940e",
   "metadata": {},
   "source": []
  },
  {
   "cell_type": "code",
   "execution_count": null,
   "id": "e596e05d",
   "metadata": {},
   "outputs": [],
   "source": []
  }
 ],
 "metadata": {
  "kernelspec": {
   "display_name": "Python 3 (ipykernel)",
   "language": "python",
   "name": "python3"
  },
  "language_info": {
   "codemirror_mode": {
    "name": "ipython",
    "version": 3
   },
   "file_extension": ".py",
   "mimetype": "text/x-python",
   "name": "python",
   "nbconvert_exporter": "python",
   "pygments_lexer": "ipython3",
   "version": "3.9.6"
  }
 },
 "nbformat": 4,
 "nbformat_minor": 5
}
