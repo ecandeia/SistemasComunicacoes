{
 "cells": [
  {
   "cell_type": "markdown",
   "id": "add2afdb",
   "metadata": {},
   "source": [
    "## Estimação da Fase\n",
    "\n",
    "Uma possibilidade para estimar a frequência no receptor é transmitir um sinal denominado de piloto, cuja valor da frequência é conhecida no receptor. Ao receber o sinal piloto, o receptor pode usar um Phased-Locked-Loop (PLL) estimar a frequência recebida. Caso haja desvio no valor da frequência recebida, o receptor pode ajustar seus osciladores.\n",
    "\n",
    "Outra possibilidade é estimar o valor da frequência a partir do sinal modulado, o que tem a vantagem de aproveitar toda a potência de transmissão para o sinal que contém informação.\n",
    "\n",
    "Vamos considerar que o sinal recebido é um AM-DSC-SC, dado por\n",
    "$$ s(t) = A(t)\\cos(2\\pi f_ct + \\theta)$$\n",
    "que no receptor é multiplicado pelo sinal\n",
    "$$ c(t) = \\cos(2\\pi f_ct + \\hat{\\theta}), $$\n",
    "produzindo\n",
    "$$\n",
    "c(t)s(t) = \\frac{1}{2}A(t)\\cos(\\theta - \\hat{\\theta}) + \\frac{1}{2}\\cos(4\\pi f_c t + \\theta + \\hat{\\theta})\n",
    "$$\n",
    "e após um filtro passa-baixas \n",
    "$$\n",
    "y(t) = \\frac{1}{2}\\cos(\\theta - \\hat{\\theta}).\n",
    "$$\n",
    "\n",
    "A diferença de fase reduz o nível de sinal em tensão por um fator $\\cos(\\theta - \\hat{\\theta})$ e em potência de $\\cos^2(\\theta - \\hat{\\theta})$.\n"
   ]
  },
  {
   "cell_type": "markdown",
   "id": "90034bd0",
   "metadata": {},
   "source": [
    "### Exercício:\n",
    "\n",
    "Como fica essa interferência em um sinal QAM $$s(t) = A(t)\\cos(2\\pi f_c t + \\theta) - B(t)\\sin(2\\pi f_c t + \\theta)?$$"
   ]
  },
  {
   "cell_type": "markdown",
   "id": "7cd3ceeb",
   "metadata": {},
   "source": [
    "### Costas Loop\n",
    "\n",
    "Seja o diagrama de blocos da figura abaixo.\n",
    "\n",
    "![title](Figuras/CostasLoop.png)\n",
    "\n",
    "Temos:\n",
    "$$x_i(t) = s(t)\\cos(\\omega_c t + \\hat{\\theta}) = A(t)\\cos(\\omega_c t + \\theta) \\cos(\\omega_c t + \\hat{\\theta})\n",
    "$$\n",
    "e\n",
    "$$x_q(t) = s(t)\\sin(\\omega_c t + \\hat{\\theta}) = A(t)\\cos(\\omega_c t + \\theta) \\sin(\\omega_c t + \\hat{\\theta})\n",
    "$$\n",
    "\n",
    "O sinal de erro é dado por\n",
    "$$\n",
    "e(t) = \\frac{A^2(t)}{2}\\sin(2[\\theta - \\hat{\\theta}])\n",
    "$$"
   ]
  },
  {
   "cell_type": "markdown",
   "id": "9ee0ed0d",
   "metadata": {},
   "source": [
    "### Exercício:\n",
    "Como fica o sinal erro acima para um sinal QAM?"
   ]
  },
  {
   "cell_type": "code",
   "execution_count": null,
   "id": "d2e79897",
   "metadata": {},
   "outputs": [],
   "source": []
  }
 ],
 "metadata": {
  "kernelspec": {
   "display_name": "Python 3 (ipykernel)",
   "language": "python",
   "name": "python3"
  },
  "language_info": {
   "codemirror_mode": {
    "name": "ipython",
    "version": 3
   },
   "file_extension": ".py",
   "mimetype": "text/x-python",
   "name": "python",
   "nbconvert_exporter": "python",
   "pygments_lexer": "ipython3",
   "version": "3.9.6"
  }
 },
 "nbformat": 4,
 "nbformat_minor": 5
}
