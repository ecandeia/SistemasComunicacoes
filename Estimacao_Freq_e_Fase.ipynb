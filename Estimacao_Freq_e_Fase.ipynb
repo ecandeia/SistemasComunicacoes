{
 "cells": [
  {
   "cell_type": "markdown",
   "id": "add2afdb",
   "metadata": {},
   "source": [
    "## Estimação da Fase\n",
    "\n",
    "Uma possibilidade para estimar a frequência no receptor é transmitir um sinal denominado de piloto, cuja valor da frequência é conhecida no receptor. Ao receber o sinal piloto, o receptor pode usar um Phased-Locked-Loop (PLL) estimar a frequência recebida. Caso haja desvio no valor da frequência recebida, o receptor pode ajustar seus osciladores.\n",
    "\n",
    "Outra possibilidade é estimar o valor da frequência a partir do sinal modulado, o que tem a vantagem de aproveitar toda a potência de transmissão para o sinal que contém informação.\n",
    "\n",
    "Vamos considerar que o sinal recebido é um AM-DSC-SC, dado por\n",
    "$$ s(t) = A(t)\\cos(2\\pi f_ct + \\theta)$$\n",
    "que no receptor é multiplicado pelo sinal\n",
    "$$ c(t) = \\cos(2\\pi f_ct + \\hat{\\theta}), $$\n",
    "produzindo\n",
    "$$\n",
    "c(t)s(t) = \\frac{1}{2}A(t)\\cos(\\theta - \\hat{\\theta}) + \\frac{1}{2}\\cos(4\\pi f_c t + \\theta + \\hat{\\theta})\n",
    "$$\n",
    "e após um filtro passa-baixas \n",
    "$$\n",
    "y(t) = \\frac{1}{2}\\cos(\\theta - \\hat{\\theta}).\n",
    "$$\n",
    "\n",
    "A diferença de fase reduz o nível de sinal em tensão por um fator $\\cos(\\theta - \\hat{\\theta})$ e em potência de $\\cos^2(\\theta - \\hat{\\theta})$.\n"
   ]
  },
  {
   "cell_type": "markdown",
   "id": "90034bd0",
   "metadata": {},
   "source": [
    "### Exercício:\n",
    "\n",
    "Como fica essa interferência em um sinal QAM $$s(t) = A(t)\\cos(2\\pi f_c t + \\theta) - B(t)\\sin(2\\pi f_c t + \\theta)?$$"
   ]
  },
  {
   "attachments": {},
   "cell_type": "markdown",
   "id": "35616892",
   "metadata": {},
   "source": [
    "## Phase-Locked Loop\n",
    "\n",
    "O phase-locked loop (loop de bloqueio de fase) é uma categoria de circuitos fundamentais para a demodulação coerente de diversos sistemas de comunicação. O mesmo pode ser utilizado em várias aplicações, como:\n",
    "\n",
    "- Demoduladores FM\n",
    "- Reconstituição de sinal\n",
    "- Recuperação de clock\n",
    "- Sintetizador de frequência\n",
    "\n",
    "### Estimação da fase da portadora: antes do PLL\n",
    "\n",
    "Um sistema de estimação de fase da portadora pode ser constituído por um PLL e outros componentes. Consideremos que o sinal recebido seja um DSB-SC-AM, com ruído:\n",
    "\n",
    "$$r(t) = u(t) + n(t) = A_cm(t)\\cos(2\\pi f_ct + \\theta_c) + n(t)$$\n",
    "\n",
    "Note que $r(t)$ e $m(t)$ possuem média zero. Consequentemente, pelo fato da portadora ser suprimida para esse tipo de sinal, uma componente da mesma não pode ser extraída diretamente de $r(t)$. Se elevarmos $r(t)$ ao quadrado:\n",
    "\n",
    "$$r^2(t) = A_c^2 m^2(t)\\cos^2(2\\pi f_c t+ \\theta_c) +\\ componentes\\ do\\ ruído = \\frac{1}{2}A_cm^2(t) + \\frac{1}{2}A_c^2m^2(t)\\cos(4\\pi f_c t + 2\\theta_c) +\\ componentes\\ do\\ ruído$$\n",
    "\n",
    "Como $m^2(t)>0$, existe uma potência DC na frequência $2f_c$, portanto pode ser usada para referenciar a portadora. Para isolar essa componente, deve-se usar um filtro de banda estreita (narrowband) tunado para $2f_c$.\n",
    "Desse modo o input do PLL pode ser aproximado para $\\cos(4f_c t+2\\theta_c)$ acrescido das componentes de frequência.\n",
    "\n",
    "![title](Figuras/FigPPL1.png)\n",
    "Esquemático genérico de um sistema de estimação de fase de portadora\n",
    "\n",
    "\n",
    "\n",
    "### Funcionamento do PLL genérico\n",
    "\n",
    "Um PLL genérico consiste de um multiplicador, um filtro de loop e um VCO (voltage-controlled oscillator)\n",
    "\n",
    "![title](Figuras/PLLBasico.png)\n",
    "Elementos básicos de um PLL\n",
    "\n",
    "A princípio, supondo que a saída do VCO é $\\sin(4f_c t + 2)$ onde  é a estimativa de , a fase da portadora. Desconsiderando ruído, o produto do sinal do VCO e o sinal de entrada $r(t) = \\cos(4f_c t+2)$ do receptor, tem-se:\n",
    "\n",
    "$$e(t) = \\cos(4\\pi f_c t + 2\\hat{\\theta})\\sin(4\\pi f_c t + 2\\hat{\\theta}) = \\frac{1}{4}\\sin(2\\theta - 2\\hat{\\theta} + \\frac{1}{2}\\sin(8\\pi f_c t + 2\\hat{\\theta} + 2\\theta)$$\n",
    "\n",
    "O filtro de loop é um filtro passa baixa que responde somente à componente de baixa frequência, assim removendo a componente de frequência $4f_c$ . O VCO por sua vez receberá somente a componente DC restante, e usará esse sinal para estimar a diferença de fase, por meio de um modelo linear de loop fechado. Quando$\\hat{\\theta} = \\theta$, a estimativa é perfeita e o oscilador é sincronizado.\n",
    "\n",
    "Finalmente, para a demodulação do sinal $r(t)=A_c m(t)\\cos(2f_c t +\\theta))$, é necessário antes dividir a frequência da saída do PLL $\\sin(4f_c t + 2\\theta)$ por 2, para assim gerar um sinal $\\sin(2f_c t + \\theta)$. Posteriormente esse sinal é defasado em 90º, gerando $\\cos(2f_c t + \\hat{\\theta})$, que será usado como oscilador local, ideal para a demodulação de $r(t)$.\n",
    "\n",
    "![title](Figuras/FigPLL2.png)\n",
    "Recuperação de portadora usando um PLL\n"
   ]
  },
  {
   "cell_type": "markdown",
   "id": "7cd3ceeb",
   "metadata": {},
   "source": [
    "### Costas Loop\n",
    "\n",
    "O Costas Loop é um circuito clássico baseado em loop de bloqueio de fase (PLL) que desempenha um papel fundamental na recuperação de portadora e na demodulação de sinais. Inicialmente, esse tipo de circuito foi empregado principalmente na demodulação de sinais modulados em amplitude com portadora suprimida (DSB-AM). Posteriormente, o mesmo circuito foi adaptado para a demodulação de sinais BPSK. Com o avanço para o QPSK, o loop de Costas também foi estendido para a demodulação desses sinais mais complexos. Esses dois tipos de Costas loop operam com sinais reais e são os mais “convencionais”. \n",
    "\n",
    "\n",
    "![title](Figuras/CostasLoop.png)\n",
    "\n",
    "Temos:\n",
    "$$x_i(t) = s(t)\\cos(\\omega_c t + \\hat{\\theta}) = A(t)\\cos(\\omega_c t + \\theta) \\cos(\\omega_c t + \\hat{\\theta})\n",
    "$$\n",
    "e\n",
    "$$x_q(t) = s(t)\\sin(\\omega_c t + \\hat{\\theta}) = A(t)\\cos(\\omega_c t + \\theta) \\sin(\\omega_c t + \\hat{\\theta})\n",
    "$$\n",
    "\n",
    "O sinal de erro é dado por\n",
    "$$\n",
    "e(t) = \\frac{A^2(t)}{2}\\sin(2[\\theta - \\hat{\\theta}])\n",
    "$$"
   ]
  },
  {
   "cell_type": "markdown",
   "id": "9ee0ed0d",
   "metadata": {},
   "source": [
    "### Exercícios:\n",
    "1. Como fica o sinal erro acima para um sinal QAM?\n",
    "2. Visite https://pysdr.org/content/sync.html e implemente e exemplo do Costas Loop até gerar a Figura, antes e depois do Costas Loop. "
   ]
  },
  {
   "cell_type": "markdown",
   "id": "256293c5",
   "metadata": {},
   "source": [
    "## Estimação da Frequência da Portadora\n",
    "\n",
    "Vamos iniciar por um método que usa a Transformada de Fourier. Considere que a portadora de um sinal transmitido com frequência $f_c$, $\\cos(2\\pi f_c t)$ foi recebido com um desvio de frequência $\\Delta$, ou seja\n",
    "$$ \n",
    "r(t) = \\cos(2\\pi(f_c + \\Delta)t),\n",
    "$$\n",
    "podemos elevar esse sinal ao quadradado obtendo\n",
    "$$\n",
    "r^2(t) = \\cos^2(2(2\\pi(f_c + \\Delta)t) = \\frac{1}{2} + \\frac{1}{2}\\cos(2.2\\pi(f_c + \\Delta)t)\n",
    "$$\n",
    "e aplicando a transformada de Fourier\n",
    "$$\n",
    "R^2(j\\Omega) = \\frac{1}{2}\\delta(\\Omega) + \\frac{1}{4}[\\delta(\\omega - 2(2\\pi f_c + \\Delta)) + \\delta(\\omega - 2(2\\pi f_c + \\Delta))\n",
    "$$\n",
    "e observando o pico ao entorno de $2\\pi f_c$ podemos determinar o desvio.\n",
    "\n",
    "**Exemplo:** Analise o efeito da técnica acima para um sinal BPSK $x(t) = \\cos(2\\pi f_c t + \\theta)$, sendo $\\theta = 0$ para o bit zero, e $\\theta = \\pi$ para o bit 1.\n",
    "\n",
    "**Exercício:** Há alguma vantagem em elevar o sinal a uma potência $M > 2$? Sem a modulação for QPSK?\n",
    "\n"
   ]
  },
  {
   "cell_type": "code",
   "execution_count": null,
   "id": "fc7b42a3",
   "metadata": {},
   "outputs": [],
   "source": []
  }
 ],
 "metadata": {
  "kernelspec": {
   "display_name": "Python 3 (ipykernel)",
   "language": "python",
   "name": "python3"
  },
  "language_info": {
   "codemirror_mode": {
    "name": "ipython",
    "version": 3
   },
   "file_extension": ".py",
   "mimetype": "text/x-python",
   "name": "python",
   "nbconvert_exporter": "python",
   "pygments_lexer": "ipython3",
   "version": "3.9.6"
  }
 },
 "nbformat": 4,
 "nbformat_minor": 5
}
