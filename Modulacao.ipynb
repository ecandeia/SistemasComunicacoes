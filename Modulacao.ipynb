{
 "cells": [
  {
   "cell_type": "markdown",
   "id": "74b13ba7",
   "metadata": {},
   "source": [
    "## Modulação\n",
    "\n",
    "O objetivo de todo sistema de comunicação é transmitir e receber sinais gerados por uma fonte. Na sua forma original, esses sinais são ditos estar em banda básica, ou seja, ocupam uma faixa de frequências que se estende do zero até uma frequência máxima. Por exemplo, o som como percebido pelo ser humano, ocupa uma faixa entre 0 e 20 kHz. \n",
    "\n",
    "Para transmitir vários sinais pelo mesmo meio de comunicação ea mesmo tempo é necessário realizar alguma forma de compartilhamento. Uma dessas formas é deslocar as frequências dos sinais da banda básica para  determinadas posições do espectro que não se sobreponham. Por exemplo, três sinais que em banda básica ocupam uma largura de banda de 1MHz, podem ser transmitidos simultaneamente por um meio se seus espectros forem deslocados para posições que tenham 1MHz ou mais de separação entre elas, como ilustrado na Figura abaixo.\n",
    "\n",
    "O processo de deslocamento da banda básica para uma determinada frequência é denominado de **modulação**, e a conversão para banda básica de **demodulação**. \n",
    "\n",
    "O elemento que realiza a modulação é o modulador, e do ponto de vista de um sistema de comunicação é um dos últimos elementos antes da etapa de amplificação e transmissão (ou etapas de Rádio Frequência - RF como são conhecidas). O elemento que realiza a demodulação é denominado de demodulador e está localizado na entrada do receptor, também após a etapa de RF.\n",
    "\n",
    "O modulador pode fazer o deslocamento do espectro de forma analógica ou digital. No primeiro caso, o modulador recebe um sinal analógico e realiza o deslocamento do espectro modificando de forma contínua uma ou mais características de um sinal que é denominado de {\\bf portadora}. Na modulação digital a informação recebida pelo modulador chega em um formato digital, que modifica de forma discreta alguma característica da portadora. Observe que em ambos os casos, a portadora é analógica.\n",
    "\n",
    "De forma geral, podemos considerar a portadora como sendo um sinal senoidal, dado por \n",
    "$$\n",
    "p(t) = a(t)\\cos[\\omega(t)t + \\theta(t)]\n",
    "\\label{eq:portadora}\n",
    "$$\n",
    "sendo $a(t)$, $\\omega(t)$ e $\\theta(t)$ funções que são modificadas, separadamente ou de forma combinada, para representar a mensagem. No caso de $\\omega(t)$ deve-se lembrar que sendo uma das funções do modulador deslocar o espectro de sinal mensagem, ela dever ser pelo menos uma constante maior que zero.\n",
    "\n",
    "Nas próximas seções vamos dividir a análise da modulação em dois tipos, as analógicas e as digitais. Em ambos serão feitas análises espectrais, sendo a análise de desempenho realizada em outra capítulos posteriores."
   ]
  },
  {
   "cell_type": "markdown",
   "id": "22b270c8",
   "metadata": {},
   "source": [
    "## Modulação Analógica\n",
    "\n",
    "Vamos considerar um sinal mensagem $m(t)$ limitado em banda básica em $B Hz$, como representado na Figura abaixo. Podemos definir alguns tipos de modulação, sendo $k_1$ e $k_2$ constantes:\n",
    "- **Modulação em Amplitude:** o sinal mensagem modifica a amplitude da portadora, ou seja, $a(t) = f[m(t)]$, $\\omega(t) = k_1$ e $\\theta(t) = k_2$, sendo $f[.]$ uma função;\n",
    "- **Modulação em Frequência:** a mensagem modifica a frequência da portadora, ou seja, $a(t) = k_1$, $\\omega(t) = g[m(t)]$ e $\\theta(t) = k_2$, e $g[.]$ uma constante;\n",
    "- **Modulação em fase:** somente a fase da portadora é modificada pela mensagem, ou seja, $a(t) = k_1$, $\\omega(t) = k_2$ e $\\theta(t) = h[m(t)]$, sendo $h[.]$ uma função.\n",
    "\n",
    "\n",
    "Há ainda a possibilidade de realizar combinações, como por exemplo modificar amplitude e fase simultaneamente. Vamos inicialmente tratar de cada uma das possibilidades em separado, depois analisaremos as combinações.\n",
    "\n",
    "Iniciemos pela Modulação em Amplitude considerando a função $f[.]$ é a própria mensagem, que $k_1 = \\omega_c$ e que $k_2 = \\theta$, então temos\n",
    "$$\n",
    "s_{AM} = m(t)\\cos(\\omega_c t + \\theta)\n",
    "$$\n",
    "sem perda de generalidade, vamos fazer $\\theta = 0$, então \n",
    "$$\n",
    "s_{AM} = m(t)\\cos(\\omega_c t). \n",
    "$$\n",
    "\n",
    "É possível observar da Equação acima que o sinal $m(t)$ está escrito nas variações de amplitude da portadora, como representado na Figura abaixo, o que justifica a denominação Modulação em Amplitude, ou simplesmente (AM).\n",
    "\n",
    "Sendo $M(j\\Omega)$ a transformada de Fourier de $m(t)$, e $\\pi[\\delta(\\Omega - \\Omega_c) + \\delta(\\Omega + \\Omega_c)]$ a do cosseno, temos que \n",
    "$$\n",
    "S(j\\Omega) = M(j\\Omega) * \\pi[\\delta(\\Omega - \\Omega_c) + \\delta(\\Omega + \\Omega_c)]\n",
    "$$\n",
    "$$= \\frac{1}{2}\\{M[j(\\Omega - \\Omega_c) + M[j(\\Omega - \\Omega_c)]\\} $$\n",
    " \n",
    "Observando a Equação acima percebe-se que as componentes de frequência de $m(t)$ são descoladas para a frequência da portadora $\\omega_c$. Logo, para transmitir dois sinais mensagem $m_1(t)$ e $m(t)$ de mesma largura de banda $B\\ Hz$ ao mesmo tempo pelo mesmo meio usando AM, pode-se escolher duas frequência $\\omega_1$ e $\\omega_2$ separadas por no mínimo $2\\ BHz$ e fazer\n",
    "$$\n",
    "s_1(t) = m_1(t)\\cos(\\omega_1 t) + m_2(t)\\cos(\\omega_2 t)\n",
    "$$\n",
    "que em frequência produz\n",
    "$$\n",
    "S_1(j\\Omega) = \\frac{1}{2}\\{M_1[j(\\Omega - \\Omega_1) + M_1[j(\\Omega - \\Omega_1)]\\} + \\frac{1}{2}\\{M_2[j(\\Omega - \\Omega_2) + M_2[j(\\Omega - \\Omega_2)]\\}\n",
    "$$\n",
    "que está representado na Figura abaixo."
   ]
  },
  {
   "cell_type": "markdown",
   "id": "6aa6f5d0",
   "metadata": {},
   "source": [
    "O que ocorre quando:\n",
    "1. Há diferença entre as frequências do transmissor e receptor?\n",
    "2. Há diferença de fase entre o transmissor e receptor?\n",
    "\n",
    "Como resolver esse problema?\n",
    "\n",
    "https://epxx.co/artigos/ammodulation.html"
   ]
  },
  {
   "cell_type": "markdown",
   "id": "935e1294",
   "metadata": {},
   "source": [
    "##  Modulação Digital\n",
    "\n",
    "Nesta seção vamos analisar as modulações denominadas de digitais, lembrando que a palavra digital aprece devido a representação digital da informação, mas que como a portadora continua sendo um sinal analógico, seno, cosseno ou ambos, o sinal modulado é analógico.\n",
    "\n",
    "Outras denominações que aparecem na literatura técnica são o sinal na freuqência intermdiária (IF) e em rádio frequência (RF). Essas denominações surgem do fato que alguns sistemas de modulação realizam um primeiro deslocamento do especrto para a frequência intermiediária (IF), pois isso permite que um mesmo sistema possa realizar a modulação de diversos canais e que se possa trabalhar com baix apotência. Após essa etapa há uma outra modulação na frequência do canal, por isso rádio frequência, e onde se insere potência. Tembém existem sistemas em que a modulação é feita em uma só etapa. De forma genérica vamos denominar de sinal modulado, considerando que há um deslocamento do espectro.\n",
    "\n",
    "No caso das modulações  digitais deseja transmitir a maior quantidade de bits, no menor tempo usando a menor faixa frequência possíel, o que é medido pela eficiência espetrar $\\eta$ dada em bits/s/Hz. Outro parâmetro importante para as modulações digitais é a taxa de erro de bits (BER), que em essência mede a razão entre os bits recebidos com erro e o total de bits transmitidos.\n",
    "\n",
    "Vamos iniciar com as modulações binárias, em que a mensagem consiste em uma sequência de bits, depois consideraremos as $M$-árias, quando um conjunto de bits é agrupado para formar um símbolo de um conjunto de $M$ possíbilidades.\n",
    "\n",
    "De forma geral podemos escrever uma modulação linear como \n",
    "$$\n",
    "s(t) = Re[A m(t) e^{j2\\pi f_c t}] = A[m_i(t)\\cos(2\\pi fc_c t) - m_q(t)\\sin(2\\pi f_c t)]$$"
   ]
  },
  {
   "cell_type": "markdown",
   "id": "0bd603fd",
   "metadata": {},
   "source": [
    "### Binary Shift Keying\n",
    "\n",
    "Essa é uma modulação em amplitudem na qual a sequência de bits representados por zeros e uns modulam a aplitude de um portadora. Considerando $A_0$ e $A_1$ as amplitudes para os bits zero e um respectivamente pode-se escrever o sinal modulado como\n",
    "$$\n",
    "s(t) = \\left\\{ \\begin{array}{c c} A_1\\Pi\\left(\\frac{t}{T_0}\\right)\\cos 2\\pi f_c t & para\\ o\\ bit\\ \\ 1 \\\\ 0 & para\\ o\\ bit\\ 0 \\end{array}\\right.\n",
    "$$\n",
    "\n",
    "sendo $T_0$ a duração do símbolo e$\\Pi(t)$ o pulso retangular (lembrar que outros pulsos podem ser utilizados).\n",
    "\n",
    "O sinal $s(t)$ acima consiste de presença de portadora quando o bit é 1, e ausência da portadora quando o bit é zero, o que se assemelha a ligar/desligar a portadora, que é de onde vem a denominação *on-off keying (OOK) modulation*. Executando o script ook.grc é possível visualizar o sinal mensagem, o sinal modulado e o espectro do sinal modulado.\n",
    "\n",
    "Deve-se observar:\n",
    "- O espectro tem banda lateral dupla;\n",
    "- A constelação de sinais tem dois pontos (que podem ser vistos como fasores);\n",
    "- A detecção  pode ser coerente, usando um filtro casado antes do amostrador e decisor, ou  incoerente usndo a detecção por envotória. Outros arranjos são possíveis.\n",
    "\n",
    "### Chaveamento de Fase\n",
    "\n",
    "Da mesma forma que foi feito com a amplitude, a mensagem binária pode ser utilizada para chavear a fase da portadora, obtendo a modulação Binary Phase Shift Keying (BPSK), cujo sinal é dado por\n",
    "$$\n",
    "s(t) = \\left\\{ \\begin{array}{c c} \n",
    "\\sqrt{\\frac{2E_b}{T_b}}\\cos(2\\pi f_c t +\\theta_c),\\ 0 \\leq t \\leq T_b & para\\ o\\ bit\\ \\ 1 \\\\  \\sqrt{\\frac{2E_b}{T_b}}\\cos(2\\pi f_c t + \\pi + \\theta_c)\\ 0 \\leq t \\leq T_b & para\\ o\\ bit\\ 0 \\end{array}\\right.\n",
    "$$\n",
    "sendo $E_b$ a energia de bit, e $T_b$ o período do bit. \n",
    "\n",
    "Exercícios:\n",
    "1. Como é a constelação de sinais BPSK?\n",
    "2. Como é o espectro de sinais BPSK?"
   ]
  },
  {
   "cell_type": "markdown",
   "id": "c5c86c94",
   "metadata": {},
   "source": [
    "### Chaveamento em Fase e Quadratura\n",
    "\n",
    "Do inglês Quadrature Phase Shift Keying (QPSK), essa modulação pode ser dada por\n",
    "$$ s_{PSK}(t) = g(t)\\cos[2\\pi f_c t + \\frac{2\\pi}{M}(m-1)\\frac{\\pi}{2}], m = 1,2, ...,M$$\n",
    "Que pode ser escrito como\n",
    "$$\n",
    "S_{PSK} = g(t)\\cos\\left[\\frac{2\\pi}{M}(m-1)\\right]\\cos2\\pi f_ct - g(t)\\sin\\left[\\frac{2\\pi}{M}(m-1)\\right]\\sin2\\pi f_ct\n",
    "$$\n",
    "sendo $g(t)$ o pulso formador do sinal e $\\theta_m = 2\\pi(m-1),\\ m = 1, 2,..., M$ as $M$ fases.\n",
    "\n",
    "Exercícios:\n",
    "1. Como é a constelação de sinais PSK?\n",
    "2. Como é o espectro de sinais PSK?\n",
    "3. O que são OQPSK e QPSK $\\pi/4$?"
   ]
  },
  {
   "cell_type": "markdown",
   "id": "3223fdef",
   "metadata": {},
   "source": [
    "### Chaveamento em Frequência\n",
    "\n",
    "Nessa modulação, denominada de BFSK (*Binary Frequency Shift Keying*) utiliza-se duas frequências, $f_1$ e $f_2$ associadas aos bits 0 e 1 , e temos\n",
    "$$\n",
    "s(t) = \\left\\{ \\begin{array}{c c} \\sqrt{\\frac{2E_b}{T_b}}\\cos( 2\\pi f_c + 2\\pi \\Delta f)t &\\ 0 \\leq t \\leq T_b\\ para\\ o\\ bit\\ \\ 1 \\\\  \\sqrt{\\frac{2E_b}{T_b}}\\cos( 2\\pi f_c - 2\\pi \\Delta f)t &\\ 0 \\leq t \\leq T_b\\ para\\ o\\ bit\\ 0 \\end{array}\\right.\n",
    "$$\n",
    "\n",
    "- Pode ser implementado usando um oscilador controlado numericamente (NCO);\n",
    "- Detecção pode ser tanto coerente quanto incoerente;\n",
    "\n",
    "1. Como é a constelação de sinais BFSK?\n",
    "2. Como é o espectro de sinais BFSK?"
   ]
  },
  {
   "cell_type": "markdown",
   "id": "23fbbaa5",
   "metadata": {},
   "source": [
    "### Modulação em Amplitude e Quadratura (QAM)\n",
    "\n",
    "Na modulação QAM (*Quadrature Amplitude Modulation*) o sinal modulado é dado por\n",
    "$$\n",
    "s_i(t) = \\sqrt{\\frac{2E_{min}}{T_s}}a_i\\cos(2\\pi f_c t) + \\sqrt{\\frac{2E_{min}}{T_s}}b_i\\cos(2\\pi f_c t), \\ 0 \\leq t \\leq T,\\ i = 1, 2, ..., M\n",
    "$$\n",
    "sendo $E_{min}$ a energia mínima do sinal, $a_i$ e $b_i$ inteiros escolhidos de acordo com a posição na constelação de sinais.\n",
    "\n",
    "1. Como é a constelação de sinais QAM?\n",
    "2. Como é o espectro de sinais QAM?"
   ]
  },
  {
   "cell_type": "markdown",
   "id": "64c7dff8",
   "metadata": {},
   "source": [
    "### FSK M-ário\n",
    "\n",
    "Os sinais são dados por \n",
    "$$\n",
    "s_i(t) = \\sqrt{\\frac{2E_{min}}{T_s}}a_i\\cos[2\\frac{\\pi}{T_s}(N_c + i)t],\\ 0 \\leq t \\leq T_s,\\ i = 1, 2,..., M\n",
    "$$\n",
    "sendo $f_c = N_c/T_s$ para algum $N_c$ fixo.\n",
    "\n",
    "1. Como é a constelação de sinais M-FSK?\n",
    "2. Como é o espectro de sinais M-FSK?"
   ]
  },
  {
   "cell_type": "markdown",
   "id": "f24c4cb6",
   "metadata": {},
   "source": [
    "Nos sinais FSK $M$-ários há o chavemanto de frequências, o que exige $M$ osciladores, um em cada frequência. Para minimizar esse problema, a *Continuous Phase Frequency Modulation (CPFK)* faz a transição continua entre fases.\n",
    "\n",
    "O sinal CPFSK é dado por\n",
    "$$\n",
    "s(t) = \\sqrt{\\frac{2E_min}{T_s}}\\cos[2\\pi f_ct + \\phi(t;I)]\n",
    "$$ \n",
    "sendo \n",
    "$$\n",
    "\\phi(t,I) = 4\\pi T_s f_d\\sum_{k=-\\infty}^{\\infty}I_k + 2\\pi f_dq(t - nT_s)In\n",
    "$$\n",
    "e $I_k$ a sequencia de amplitude obtida mapeando $k$ bits em valores inteiros $\\pm 1,\\pm 2, ...$ e\n",
    "$$\n",
    "g(t) = \\left\\{ \\begin{array}{c c} 0, & t < 0 \\\\ t/2/T_s & 0 \\leq t \\leq T_s \\\\ 1/2 & t >T  \\end{array}\\right.\n",
    "$$"
   ]
  },
  {
   "cell_type": "code",
   "execution_count": null,
   "id": "68995c39",
   "metadata": {},
   "outputs": [],
   "source": []
  }
 ],
 "metadata": {
  "kernelspec": {
   "display_name": "Python 3 (ipykernel)",
   "language": "python",
   "name": "python3"
  },
  "language_info": {
   "codemirror_mode": {
    "name": "ipython",
    "version": 3
   },
   "file_extension": ".py",
   "mimetype": "text/x-python",
   "name": "python",
   "nbconvert_exporter": "python",
   "pygments_lexer": "ipython3",
   "version": "3.9.6"
  }
 },
 "nbformat": 4,
 "nbformat_minor": 5
}
