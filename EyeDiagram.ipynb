{
 "cells": [
  {
   "cell_type": "markdown",
   "id": "421eb5ca",
   "metadata": {},
   "source": [
    "## Diagrama de Olho (Eye Diagram)\n",
    "\n",
    "Considere que um osciloscópio desenha o sinal recebido porém com a caracterísitica de que a cada $nT$ segundo o traço é fereito sem apagar o anterior. O diagrama desenhado mostrado desenhará a sequência de pulsos sobreposto a emdida que o tempo passa, e esse diagrama é conhecido como Digrama de Olho (*Eye Diagram*).\n",
    "\n",
    "No caso ideal (sem ruído e outros erros) não haverá sobreposição de pulsos com amplitudes distintas."
   ]
  },
  {
   "cell_type": "code",
   "execution_count": null,
   "id": "41cde583",
   "metadata": {},
   "outputs": [],
   "source": []
  }
 ],
 "metadata": {
  "kernelspec": {
   "display_name": "Python 3 (ipykernel)",
   "language": "python",
   "name": "python3"
  },
  "language_info": {
   "codemirror_mode": {
    "name": "ipython",
    "version": 3
   },
   "file_extension": ".py",
   "mimetype": "text/x-python",
   "name": "python",
   "nbconvert_exporter": "python",
   "pygments_lexer": "ipython3",
   "version": "3.9.6"
  }
 },
 "nbformat": 4,
 "nbformat_minor": 5
}
